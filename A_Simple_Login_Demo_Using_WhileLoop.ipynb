{
 "cells": [
  {
   "cell_type": "code",
   "execution_count": 1,
   "id": "ef56e616",
   "metadata": {},
   "outputs": [
    {
     "name": "stdout",
     "output_type": "stream",
     "text": [
      "Enter your username: ggs\n",
      "Enter your password: 123\n",
      "Wrong username or password. Please, try again.\n",
      "Enter your username: Pharmson\n",
      "Enter your password: 123\n",
      "Wrong username or password. Please, try again.\n",
      "Enter your username: Pharmson\n",
      "Enter your password: 12345\n",
      "You are logged in successfully.\n"
     ]
    }
   ],
   "source": [
    "saved_username = 'Pharmson'\n",
    "saved_password = '12345'\n",
    "\n",
    "while True:\n",
    "    username = input('Enter your username: ')\n",
    "    password = input('Enter your password: ')\n",
    "    \n",
    "    if username == saved_username and password == saved_password:\n",
    "        print('You are logged in successfully.')\n",
    "        break\n",
    "    else:\n",
    "        print('Wrong username or password. Please, try again.')"
   ]
  },
  {
   "cell_type": "code",
   "execution_count": 2,
   "id": "d09d9098",
   "metadata": {},
   "outputs": [
    {
     "name": "stdout",
     "output_type": "stream",
     "text": [
      "Enter your username: Pharm\n",
      "Wrong username. Please try again.\n",
      "Enter your username: Sam\n",
      "Wrong username. Please try again.\n",
      "Enter your username: Pharmson\n",
      "Enter your password: 123\n",
      "Wrong password. Please try again.\n",
      "Enter your username: Pharmson\n",
      "Enter your password: 12345\n",
      "You are logged in succesfully.\n"
     ]
    }
   ],
   "source": [
    "saved_username = 'Pharmson'\n",
    "saved_password = '12345'\n",
    "\n",
    "while True:\n",
    "    username = input('Enter your username: ')\n",
    "    \n",
    "    if username == saved_username:\n",
    "        password = input('Enter your password: ')\n",
    "        if password == saved_password:\n",
    "            print('You are logged in succesfully.')\n",
    "            break\n",
    "        else:\n",
    "            print('Wrong password. Please try again.')\n",
    "    else:\n",
    "        print('Wrong username. Please try again.')"
   ]
  },
  {
   "cell_type": "code",
   "execution_count": null,
   "id": "f158bd24",
   "metadata": {},
   "outputs": [],
   "source": []
  }
 ],
 "metadata": {
  "kernelspec": {
   "display_name": "Python 3 (ipykernel)",
   "language": "python",
   "name": "python3"
  },
  "language_info": {
   "codemirror_mode": {
    "name": "ipython",
    "version": 3
   },
   "file_extension": ".py",
   "mimetype": "text/x-python",
   "name": "python",
   "nbconvert_exporter": "python",
   "pygments_lexer": "ipython3",
   "version": "3.10.9"
  }
 },
 "nbformat": 4,
 "nbformat_minor": 5
}
